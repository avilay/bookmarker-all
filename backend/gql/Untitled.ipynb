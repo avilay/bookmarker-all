{
 "cells": [
  {
   "cell_type": "code",
   "execution_count": 1,
   "id": "4a4dc64e",
   "metadata": {},
   "outputs": [],
   "source": [
    "from bookmarker.data import *\n",
    "from bookmarker.links_md_parser import *\n",
    "from bookmarker.model import *"
   ]
  },
  {
   "cell_type": "code",
   "execution_count": 4,
   "id": "c59e3efe",
   "metadata": {},
   "outputs": [],
   "source": [
    "notes = \"\"\"\n",
    "Lorem ipsum dolor sit amet, consectetur adipiscing elit, sed do eiusmod tempor \n",
    "incididunt ut labore et dolore magna aliqua. Ut enim ad minim veniam, quis nostrud \n",
    "exercitation ullamco laboris nisi ut aliquip ex ea commodo consequat. Duis aute \n",
    "irure dolor in reprehenderit in voluptate velit esse cillum dolore eu fugiat nulla \n",
    "pariatur. Excepteur sint occaecat cupidatat non proident, sunt in culpa qui officia \n",
    "deserunt mollit anim id est laborum.\n",
    "\"\"\"\n",
    "add_bookmark(\n",
    "    url=\"https://avilay.rocks\", \n",
    "    title=\"My Random Thoughts\", \n",
    "    notes=notes, \n",
    "    is_urgent=True,\n",
    "    is_important=True\n",
    ")"
   ]
  },
  {
   "cell_type": "code",
   "execution_count": null,
   "id": "543cd7d0",
   "metadata": {},
   "outputs": [],
   "source": [
    "bm = bookmarks()"
   ]
  },
  {
   "cell_type": "code",
   "execution_count": null,
   "id": "5a3a94ff",
   "metadata": {},
   "outputs": [],
   "source": [
    "bm[0]"
   ]
  },
  {
   "cell_type": "code",
   "execution_count": null,
   "id": "f2b82831",
   "metadata": {},
   "outputs": [],
   "source": [
    "bm[1]"
   ]
  },
  {
   "cell_type": "code",
   "execution_count": null,
   "id": "d7c27694",
   "metadata": {},
   "outputs": [],
   "source": [
    "bm[2]"
   ]
  },
  {
   "cell_type": "code",
   "execution_count": null,
   "id": "4e95428a",
   "metadata": {},
   "outputs": [],
   "source": [
    "from datetime import datetime"
   ]
  },
  {
   "cell_type": "code",
   "execution_count": null,
   "id": "a7e0046a",
   "metadata": {},
   "outputs": [],
   "source": [
    "datetime.now().strftime(\"%Y-%m-%d\")"
   ]
  },
  {
   "cell_type": "code",
   "execution_count": null,
   "id": "bd0c3895",
   "metadata": {},
   "outputs": [],
   "source": []
  }
 ],
 "metadata": {
  "kernelspec": {
   "display_name": "Python 3 (ipykernel)",
   "language": "python",
   "name": "python3"
  },
  "language_info": {
   "codemirror_mode": {
    "name": "ipython",
    "version": 3
   },
   "file_extension": ".py",
   "mimetype": "text/x-python",
   "name": "python",
   "nbconvert_exporter": "python",
   "pygments_lexer": "ipython3",
   "version": "3.9.6"
  }
 },
 "nbformat": 4,
 "nbformat_minor": 5
}
